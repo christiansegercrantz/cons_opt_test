{
 "cells": [
  {
   "cell_type": "code",
   "execution_count": 11,
   "metadata": {},
   "outputs": [],
   "source": [
    "using JuMP\n",
    "using HiGHS"
   ]
  },
  {
   "cell_type": "markdown",
   "metadata": {},
   "source": [
    "# https://economics.uwo.ca/math/resources/calculus-multivariable-functions/7-partial-derivatives-constrained-optimization/content/"
   ]
  },
  {
   "cell_type": "markdown",
   "metadata": {},
   "source": [
    "## 1"
   ]
  },
  {
   "cell_type": "code",
   "execution_count": 12,
   "metadata": {},
   "outputs": [
    {
     "name": "stdout",
     "output_type": "stream",
     "text": [
      "Max x*y\n",
      "Subject to\n",
      " x + 4 y = 240\n"
     ]
    }
   ],
   "source": [
    "model_1 = Model(HiGHS.Optimizer)\n",
    "\n",
    "@variable(model_1, x)\n",
    "@variable(model_1, y)\n",
    "\n",
    "@objective(model_1, Max, x*y)\n",
    "\n",
    "@constraint(model_1, x + 4y == 240)\n",
    "\n",
    "print(model_1)"
   ]
  },
  {
   "cell_type": "code",
   "execution_count": 13,
   "metadata": {},
   "outputs": [
    {
     "name": "stdout",
     "output_type": "stream",
     "text": [
      "Running HiGHS 1.7.0 (git hash: 50670fd4c): Copyright (c) 2024 HiGHS under MIT licence terms\n",
      "Coefficient ranges:\n",
      "  Matrix [1e+00, 4e+00]\n",
      "  Cost   [0e+00, 0e+00]\n",
      "  Bound  [0e+00, 0e+00]\n",
      "  RHS    [2e+02, 2e+02]\n",
      "Iteration, Runtime, ObjVal, NullspaceDim\n",
      "0, 0.027623, 0.000180, 1\n",
      "lambda = -0.125000\n",
      "Highs::returnFromRun: return_status = -1 != 0 = run_return_status For model_status_ = Not Set\n",
      "Model   status      : Not Set\n",
      "HiGHS run time      :          0.03\n"
     ]
    }
   ],
   "source": [
    "res = optimize!(model_1)"
   ]
  },
  {
   "cell_type": "code",
   "execution_count": 14,
   "metadata": {},
   "outputs": [
    {
     "data": {
      "text/plain": [
       "119.99997750000477"
      ]
     },
     "metadata": {},
     "output_type": "display_data"
    }
   ],
   "source": [
    "value(x)"
   ]
  },
  {
   "cell_type": "code",
   "execution_count": 15,
   "metadata": {},
   "outputs": [
    {
     "data": {
      "text/plain": [
       "30.000005624998806"
      ]
     },
     "metadata": {},
     "output_type": "display_data"
    }
   ],
   "source": [
    "value(y)"
   ]
  },
  {
   "cell_type": "markdown",
   "metadata": {},
   "source": [
    "## 2"
   ]
  },
  {
   "cell_type": "code",
   "execution_count": 20,
   "metadata": {},
   "outputs": [
    {
     "name": "stdout",
     "output_type": "stream",
     "text": [
      "Max x*y\n",
      "Subject to\n",
      " 10 x + 20 y ≤ 400\n"
     ]
    }
   ],
   "source": [
    "model_2 = Model(HiGHS.Optimizer)\n",
    "\n",
    "@variable(model_2, x)\n",
    "@variable(model_2, y)\n",
    "\n",
    "@objective(model_2, Max, x*y)\n",
    "\n",
    "@constraint(model_2, 10x + 20y <= 400)\n",
    "\n",
    "print(model_2)"
   ]
  },
  {
   "cell_type": "code",
   "execution_count": 27,
   "metadata": {},
   "outputs": [
    {
     "name": "stdout",
     "output_type": "stream",
     "text": [
      "Running HiGHS 1.7.0 (git hash: 50670fd4c): Copyright (c) 2024 HiGHS under MIT licence terms\n",
      "Coefficient ranges:\n",
      "  Matrix [1e+01, 2e+01]\n",
      "  Cost   [0e+00, 0e+00]\n",
      "  Bound  [0e+00, 0e+00]\n",
      "  RHS    [4e+02, 4e+02]\n",
      "Iteration, Runtime, ObjVal, NullspaceDim\n",
      "0, 0.012846, 0.000080, 1\n",
      "3, 0.013039, -199.999975, 1\n",
      "Model   status      : Optimal\n",
      "Objective value     :  2.0000000000e+02\n",
      "HiGHS run time      :          0.01\n"
     ]
    }
   ],
   "source": [
    "optimize!(model_2)"
   ]
  },
  {
   "cell_type": "code",
   "execution_count": 28,
   "metadata": {},
   "outputs": [
    {
     "data": {
      "text/plain": [
       "19.999998500000185"
      ]
     },
     "metadata": {},
     "output_type": "display_data"
    }
   ],
   "source": [
    "value(x)"
   ]
  },
  {
   "cell_type": "code",
   "execution_count": 29,
   "metadata": {},
   "outputs": [
    {
     "data": {
      "text/plain": [
       "10.000000749999908"
      ]
     },
     "metadata": {},
     "output_type": "display_data"
    }
   ],
   "source": [
    "value(y)"
   ]
  },
  {
   "cell_type": "markdown",
   "metadata": {},
   "source": [
    "## 3"
   ]
  },
  {
   "cell_type": "code",
   "execution_count": 30,
   "metadata": {},
   "outputs": [
    {
     "name": "stdout",
     "output_type": "stream",
     "text": [
      "Max x*y\n",
      "Subject to\n",
      " 5 x + 20 y ≤ 400\n"
     ]
    }
   ],
   "source": [
    "model_2 = Model(HiGHS.Optimizer)\n",
    "\n",
    "@variable(model_2, x)\n",
    "@variable(model_2, y)\n",
    "\n",
    "@objective(model_2, Max, x*y)\n",
    "\n",
    "@constraint(model_2, 5x + 20y <= 400)\n",
    "\n",
    "print(model_2)"
   ]
  },
  {
   "cell_type": "code",
   "execution_count": 31,
   "metadata": {},
   "outputs": [
    {
     "name": "stdout",
     "output_type": "stream",
     "text": [
      "Running HiGHS 1.7.0 (git hash: 50670fd4c): Copyright (c) 2024 HiGHS under MIT licence terms\n",
      "Coefficient ranges:\n",
      "  Matrix [5e+00, 2e+01]\n",
      "  Cost   [0e+00, 0e+00]\n",
      "  Bound  [0e+00, 0e+00]\n",
      "  RHS    [4e+02, 4e+02]\n",
      "Iteration, Runtime, ObjVal, NullspaceDim\n",
      "0, 0.004647, 0.000320, 1\n",
      "3, 0.004809, -399.999915, 1\n",
      "Model   status      : Optimal\n",
      "Objective value     :  4.0000000000e+02\n",
      "HiGHS run time      :          0.00\n"
     ]
    }
   ],
   "source": [
    "optimize!(model_2)"
   ]
  },
  {
   "cell_type": "code",
   "execution_count": 32,
   "metadata": {},
   "outputs": [
    {
     "data": {
      "text/plain": [
       "39.999992500001596"
      ]
     },
     "metadata": {},
     "output_type": "display_data"
    }
   ],
   "source": [
    "value(x)"
   ]
  },
  {
   "cell_type": "code",
   "execution_count": 33,
   "metadata": {},
   "outputs": [
    {
     "data": {
      "text/plain": [
       "10.000001874999601"
      ]
     },
     "metadata": {},
     "output_type": "display_data"
    }
   ],
   "source": [
    "value(y)"
   ]
  },
  {
   "cell_type": "markdown",
   "metadata": {},
   "source": [
    "## 4"
   ]
  },
  {
   "cell_type": "code",
   "execution_count": 34,
   "metadata": {},
   "outputs": [
    {
     "name": "stdout",
     "output_type": "stream",
     "text": [
      "Max x*y\n",
      "Subject to\n",
      " 10 x + 20 y ≤ 800\n"
     ]
    }
   ],
   "source": [
    "model_4 = Model(HiGHS.Optimizer)\n",
    "\n",
    "@variable(model_4, x)\n",
    "@variable(model_4, y)\n",
    "\n",
    "@objective(model_4, Max, x*y)\n",
    "\n",
    "@constraint(model_4, 10x + 20y <= 800)\n",
    "\n",
    "print(model_4)"
   ]
  },
  {
   "cell_type": "code",
   "execution_count": 35,
   "metadata": {},
   "outputs": [
    {
     "name": "stdout",
     "output_type": "stream",
     "text": [
      "Running HiGHS 1.7.0 (git hash: 50670fd4c): Copyright (c) 2024 HiGHS under MIT licence terms\n",
      "Coefficient ranges:\n",
      "  Matrix [1e+01, 2e+01]\n",
      "  Cost   [0e+00, 0e+00]\n",
      "  Bound  [0e+00, 0e+00]\n",
      "  RHS    [8e+02, 8e+02]\n",
      "Iteration, Runtime, ObjVal, NullspaceDim\n",
      "0, 0.002432, 0.000320, 1\n",
      "3, 0.002587, -799.999900, 1\n",
      "Model   status      : Optimal\n",
      "Objective value     :  8.0000000000e+02\n",
      "HiGHS run time      :          0.00\n"
     ]
    }
   ],
   "source": [
    "optimize!(model_4)"
   ]
  },
  {
   "cell_type": "code",
   "execution_count": 36,
   "metadata": {},
   "outputs": [
    {
     "data": {
      "text/plain": [
       "39.99999700000037"
      ]
     },
     "metadata": {},
     "output_type": "display_data"
    }
   ],
   "source": [
    "value(x)"
   ]
  },
  {
   "cell_type": "code",
   "execution_count": 37,
   "metadata": {},
   "outputs": [
    {
     "data": {
      "text/plain": [
       "20.000001499999815"
      ]
     },
     "metadata": {},
     "output_type": "display_data"
    }
   ],
   "source": [
    "value(y)"
   ]
  },
  {
   "cell_type": "markdown",
   "metadata": {},
   "source": [
    "# https://www.math.kth.se/optsyst/utbildning/kurser/SF1811/optexsamleng2014.pdf"
   ]
  },
  {
   "cell_type": "code",
   "execution_count": 98,
   "metadata": {},
   "outputs": [
    {
     "name": "stdout",
     "output_type": "stream",
     "text": [
      "Max 12 a + 9 b + 8 c\n",
      "Subject to\n",
      " 0.0005 a + 0.0006666666666666666 b + 0.0009090909090909091 c ≤ 8\n",
      " 0.001 a + 0.0006666666666666666 b + 0.0004166666666666667 c ≤ 8\n",
      " a ≥ 0\n",
      " b ≥ 0\n",
      " c ≥ 0\n",
      " a integer\n",
      " b integer\n",
      " c integer\n"
     ]
    }
   ],
   "source": [
    "model = Model(HiGHS.Optimizer)\n",
    "\n",
    "@variable(model, 0 <= a, Int)\n",
    "@variable(model, 0 <= b, Int)\n",
    "@variable(model, 0 <= c, Int)\n",
    "\n",
    "@objective(model, Max, 12*a +9*b + 8*c)\n",
    "\n",
    "@constraint(model, a/2000+b/1500+c/1100 <= 8)\n",
    "@constraint(model, a/1000+b/1500+c/2400 <= 8)\n",
    "\n",
    "print(model)"
   ]
  },
  {
   "cell_type": "code",
   "execution_count": 99,
   "metadata": {},
   "outputs": [
    {
     "name": "stdout",
     "output_type": "stream",
     "text": [
      "Running HiGHS 1.7.0 (git hash: 50670fd4c): Copyright (c) 2024 HiGHS under MIT licence terms\n",
      "Coefficient ranges:\n",
      "  Matrix [4e-04, 1e-03]\n",
      "  Cost   [8e+00, 1e+01]\n",
      "  Bound  [0e+00, 0e+00]\n",
      "  RHS    [8e+00, 8e+00]\n",
      "Presolving model\n",
      "2 rows, 3 cols, 6 nonzeros  0s\n",
      "2 rows, 3 cols, 6 nonzeros  0s\n",
      "Objective function is integral with scale 1\n",
      "\n",
      "Solving MIP model with:\n",
      "   2 rows\n",
      "   3 cols (0 binary, 3 integer, 0 implied int., 0 continuous)\n",
      "   6 nonzeros\n",
      "\n",
      "        Nodes      |    B&B Tree     |            Objective Bounds              |  Dynamic Constraints |       Work      \n",
      "     Proc. InQueue |  Leaves   Expl. | BestBound       BestSol              Gap |   Cuts   InLp Confl. | LpIters     Time\n",
      "\n",
      "         0       0         0   0.00%   274400          -inf                 inf        0      0      0         0     0.0s\n",
      " S       0       0         0   0.00%   274400          113116           142.58%        0      0      0         0     0.0s\n",
      "\n",
      "Solving report\n",
      "  Status            Optimal\n",
      "  Primal bound      113116\n",
      "  Dual bound        113124\n",
      "  Gap               0.00707% (tolerance: 0.01%)\n",
      "  Solution status   feasible\n",
      "                    113116 (objective)\n",
      "                    0 (bound viol.)\n",
      "                    0 (int. viol.)\n",
      "                    0 (row viol.)\n",
      "  Timing            0.01 (total)\n",
      "                    0.00 (presolve)\n",
      "                    0.00 (postsolve)\n",
      "  Nodes             1\n",
      "  LP iterations     3 (total)\n",
      "                    0 (strong br.)\n",
      "                    0 (separation)\n",
      "                    0 (heuristics)\n"
     ]
    }
   ],
   "source": [
    "optimize!(model)"
   ]
  },
  {
   "cell_type": "code",
   "execution_count": 100,
   "metadata": {},
   "outputs": [
    {
     "data": {
      "text/plain": [
       "true"
      ]
     },
     "metadata": {},
     "output_type": "display_data"
    }
   ],
   "source": [
    "is_solved_and_feasible(model)"
   ]
  },
  {
   "cell_type": "code",
   "execution_count": 107,
   "metadata": {},
   "outputs": [
    {
     "data": {
      "text/plain": [
       "5621.0"
      ]
     },
     "metadata": {},
     "output_type": "display_data"
    }
   ],
   "source": [
    "value(a)"
   ]
  },
  {
   "cell_type": "code",
   "execution_count": 108,
   "metadata": {},
   "outputs": [
    {
     "data": {
      "text/plain": [
       "0.0"
      ]
     },
     "metadata": {},
     "output_type": "display_data"
    }
   ],
   "source": [
    "value(b)"
   ]
  },
  {
   "cell_type": "code",
   "execution_count": 109,
   "metadata": {},
   "outputs": [
    {
     "data": {
      "text/plain": [
       "5708.0"
      ]
     },
     "metadata": {},
     "output_type": "display_data"
    }
   ],
   "source": [
    "value(c)"
   ]
  }
 ],
 "metadata": {
  "kernelspec": {
   "display_name": "Julia 1.10.2",
   "language": "julia",
   "name": "julia-1.10"
  },
  "language_info": {
   "file_extension": ".jl",
   "mimetype": "application/julia",
   "name": "julia",
   "version": "1.10.2"
  }
 },
 "nbformat": 4,
 "nbformat_minor": 2
}
