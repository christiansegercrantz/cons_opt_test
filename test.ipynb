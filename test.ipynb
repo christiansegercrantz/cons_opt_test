{
 "cells": [
  {
   "cell_type": "code",
   "execution_count": 10,
   "metadata": {},
   "outputs": [],
   "source": [
    "using JuMP\n",
    "using HiGHS"
   ]
  },
  {
   "cell_type": "code",
   "execution_count": 2,
   "metadata": {},
   "outputs": [
    {
     "ename": "UndefVarError",
     "evalue": "UndefVarError: `HiGHS` not defined",
     "output_type": "error",
     "traceback": [
      "UndefVarError: `HiGHS` not defined\n",
      "\n",
      "Stacktrace:\n",
      " [1] top-level scope\n",
      "   @ /workspaces/cons_opt_test/test.ipynb:1"
     ]
    }
   ],
   "source": [
    "model_1 = Model(HiGHS.Optimizer)\n",
    "\n",
    "@variable(model_1, x)\n",
    "@variable(model_1, y)\n",
    "\n",
    "@objective(model_1, Max, x*y)\n",
    "\n",
    "@constraint(model_1, x + 4y == 240)\n",
    "\n",
    "print(model_1)"
   ]
  },
  {
   "cell_type": "code",
   "execution_count": 3,
   "metadata": {},
   "outputs": [
    {
     "ename": "UndefVarError",
     "evalue": "UndefVarError: `optimize!` not defined",
     "output_type": "error",
     "traceback": [
      "UndefVarError: `optimize!` not defined\n",
      "\n",
      "Stacktrace:\n",
      " [1] top-level scope\n",
      "   @ /workspaces/cons_opt_test/test.ipynb:1"
     ]
    }
   ],
   "source": [
    "res = optimize!(model_1)"
   ]
  },
  {
   "cell_type": "code",
   "execution_count": 4,
   "metadata": {},
   "outputs": [
    {
     "ename": "UndefVarError",
     "evalue": "UndefVarError: `value` not defined",
     "output_type": "error",
     "traceback": [
      "UndefVarError: `value` not defined\n",
      "\n",
      "Stacktrace:\n",
      " [1] top-level scope\n",
      "   @ /workspaces/cons_opt_test/test.ipynb:1"
     ]
    }
   ],
   "source": [
    "value(x)"
   ]
  },
  {
   "cell_type": "code",
   "execution_count": 5,
   "metadata": {},
   "outputs": [
    {
     "ename": "UndefVarError",
     "evalue": "UndefVarError: `value` not defined",
     "output_type": "error",
     "traceback": [
      "UndefVarError: `value` not defined\n",
      "\n",
      "Stacktrace:\n",
      " [1] top-level scope\n",
      "   @ /workspaces/cons_opt_test/test.ipynb:1"
     ]
    }
   ],
   "source": [
    "value(y)"
   ]
  },
  {
   "cell_type": "code",
   "execution_count": 6,
   "metadata": {},
   "outputs": [
    {
     "ename": "UndefVarError",
     "evalue": "UndefVarError: `HiGHS` not defined",
     "output_type": "error",
     "traceback": [
      "UndefVarError: `HiGHS` not defined\n",
      "\n",
      "Stacktrace:\n",
      " [1] top-level scope\n",
      "   @ /workspaces/cons_opt_test/test.ipynb:1"
     ]
    }
   ],
   "source": [
    "model_2 = Model(HiGHS.Optimizer)\n",
    "\n",
    "@variable(model_2, x)\n",
    "@variable(model_2, y)\n",
    "\n",
    "@objective(model_2, Max, x*y)\n",
    "\n",
    "@constraint(model_2, x + 4y == 240)\n",
    "\n",
    "print(model_2)"
   ]
  }
 ],
 "metadata": {
  "kernelspec": {
   "display_name": "Julia 1.10.2",
   "language": "julia",
   "name": "julia-1.10"
  },
  "language_info": {
   "file_extension": ".jl",
   "mimetype": "application/julia",
   "name": "julia",
   "version": "1.10.2"
  }
 },
 "nbformat": 4,
 "nbformat_minor": 2
}
